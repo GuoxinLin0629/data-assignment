{
 "cells": [
  {
   "cell_type": "code",
   "execution_count": null,
   "id": "eb8c635d",
   "metadata": {},
   "outputs": [],
   "source": [
    "# csv = comma, seperated values\n",
    "import csv"
   ]
  },
  {
   "cell_type": "code",
   "execution_count": null,
   "id": "81c69d44",
   "metadata": {},
   "outputs": [],
   "source": [
    "# need to specify the encoding because we are using non-english characters\n",
    "with open('Data/pokemon_data.csv', encoding='utf-8', newline='') as csvfile:\n",
    "    csv_reader = csv.reader(csvfile)\n",
    "    headers = next(csv_reader)\n",
    "    data = []\n",
    "    for row in csv_reader:\n",
    "        data.append(row)\n",
    "        \n",
    "data"
   ]
  },
  {
   "cell_type": "code",
   "execution_count": null,
   "id": "9266c593",
   "metadata": {},
   "outputs": [],
   "source": [
    "# lets print out the name and classification\n",
    "name_idx = headers.index('name')\n",
    "classification_idx = headers.index('classfication')\n",
    "print(classification_idx)\n",
    "\n",
    "for pokemon in data:\n",
    "    print(pokemon[name_idx] + \" is a \" + pokemon[classification_idx])"
   ]
  },
  {
   "cell_type": "code",
   "execution_count": null,
   "id": "c93cf1a5",
   "metadata": {},
   "outputs": [],
   "source": [
    "# read the file again, but as a dictionary\n",
    "with open('Data/pokemon_data.csv', encoding='utf-8', newline='') as csvfile:\n",
    "    csv_reader = csv.DictReader(csvfile)\n",
    "    pokemon = [] # plural of pokemon is pokemon\n",
    "    for row in csv_reader:\n",
    "        pokemon.append(row)\n",
    "        \n",
    "pokemon"
   ]
  },
  {
   "cell_type": "code",
   "execution_count": null,
   "id": "1af52d22",
   "metadata": {},
   "outputs": [],
   "source": [
    "# get random pokemon and print the name\n",
    "import random\n",
    "my_pokemon = random.choice(pokemon)\n",
    "print(\"I choose you \" + my_pokemon['name'])"
   ]
  },
  {
   "cell_type": "code",
   "execution_count": null,
   "id": "866854aa",
   "metadata": {},
   "outputs": [],
   "source": [
    "# i need an opponent\n",
    "pokemon_enemy = random.choice(pokemon)\n",
    "print(\"Against us in battle is \" + pokemon_enemy['name'])"
   ]
  },
  {
   "cell_type": "code",
   "execution_count": null,
   "id": "cdb01186",
   "metadata": {},
   "outputs": [],
   "source": [
    "# print out name and type of each pokemon\n",
    "print(my_pokemon[\"name\"] + \" is type \" + my_pokemon['type1'])\n",
    "print(pokemon_enemy['name'] + \" is type \" + pokemon_enemy['type1'])"
   ]
  },
  {
   "cell_type": "code",
   "execution_count": null,
   "id": "bb13afda",
   "metadata": {},
   "outputs": [],
   "source": [
    "print(my_pokemon['name'] + \" is \" + my_pokemon['against_poison'] + \" against poison\")"
   ]
  },
  {
   "cell_type": "code",
   "execution_count": null,
   "id": "f9ad8f47",
   "metadata": {},
   "outputs": [],
   "source": [
    "print(pokemon_enemy['name'] + \" is \" + pokemon_enemy['against_psychic'] + \" against psychic\")"
   ]
  },
  {
   "cell_type": "code",
   "execution_count": null,
   "id": "69fb6fed",
   "metadata": {},
   "outputs": [],
   "source": [
    "# if one pokemon has a type advantage against another, that pokemon wins!\n",
    "if my_pokemon['against_poison'] < pokemon_enemy['against_psychic']:\n",
    "    print(pokemon_enemy['name'] + ' WINS!')\n",
    "else:\n",
    "    print(\"My pokemon WINS!\")"
   ]
  },
  {
   "cell_type": "code",
   "execution_count": null,
   "id": "e3e2d1ab",
   "metadata": {},
   "outputs": [],
   "source": [
    "# let's put this all together\n",
    "\n",
    "my_pokemon = random.choice(pokemon)\n",
    "print(\"I choose you \" + my_pokemon['name'])\n",
    "pokemon_enemy = random.choice(pokemon)\n",
    "print(\"Against us in battle is \" + pokemon_enemy['name'])\n",
    "# print new line\n",
    "print()\n",
    "\n",
    "print(my_pokemon['name'] + \" is \" + my_pokemon['type1'] + \" type\")\n",
    "print(pokemon_enemy['name'] + \" is \" + pokemon_enemy['type1'] + \" type\")\n",
    "print()\n",
    "\n",
    "# get the correct header\n",
    "if pokemon_enemy['type1'] == 'fighting':\n",
    "    enemy_type = 'against_fight'\n",
    "else:\n",
    "    enemy_type = 'against_'+ pokemon_enemy['type1']\n",
    "my_pokemon_strength = my_pokemon[enemy_type]\n",
    "print(\"My strength against the enemy is \" + my_pokemon_strength)\n",
    "\n",
    "if my_pokemon['type1'] == 'fighting':\n",
    "    my_type = 'against_fight'\n",
    "else:\n",
    "    my_type = 'against_'+ my_pokemon['type1']\n",
    "enemy_pokemon_strength = pokemon_enemy[my_type]\n",
    "print(\"The enemy's strength against me is \" + enemy_pokemon_strength)\n",
    "print()\n",
    "\n",
    "if my_pokemon_strength > enemy_pokemon_strength:\n",
    "    print(\"I WIN!\")\n",
    "elif my_pokemon_strength < enemy_pokemon_strength:\n",
    "    print(\"I LOSE\")\n",
    "else:\n",
    "    if my_pokemon['hp'] > pokemon_enemy['hp']:\n",
    "        print(\"I WIN\")\n",
    "    elif my_pokemon['hp'] < pokemon_enemy['hp']:\n",
    "        print(\"I LOSE\")\n",
    "    else:\n",
    "        print(\"SUPER TIE\")"
   ]
  }
 ],
 "metadata": {
  "kernelspec": {
   "display_name": "Python 3 (ipykernel)",
   "language": "python",
   "name": "python3"
  },
  "language_info": {
   "codemirror_mode": {
    "name": "ipython",
    "version": 3
   },
   "file_extension": ".py",
   "mimetype": "text/x-python",
   "name": "python",
   "nbconvert_exporter": "python",
   "pygments_lexer": "ipython3",
   "version": "3.10.6"
  }
 },
 "nbformat": 4,
 "nbformat_minor": 5
}
